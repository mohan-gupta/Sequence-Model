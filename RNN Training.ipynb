{
 "cells": [
  {
   "cell_type": "code",
   "execution_count": 1,
   "id": "b15d0330",
   "metadata": {},
   "outputs": [],
   "source": [
    "import os\n",
    "import glob\n",
    "import unicodedata\n",
    "import string\n",
    "\n",
    "import random\n",
    "\n",
    "import time\n",
    "import math\n",
    "\n",
    "import torch\n",
    "import torch.nn as nn\n",
    "import torch.nn.functional as F"
   ]
  },
  {
   "cell_type": "markdown",
   "id": "fa8743c6",
   "metadata": {},
   "source": [
    "## Loadin Data"
   ]
  },
  {
   "cell_type": "code",
   "execution_count": 2,
   "id": "c3f5aa3f",
   "metadata": {},
   "outputs": [],
   "source": [
    "find_files = lambda path: glob.glob(path)"
   ]
  },
  {
   "cell_type": "code",
   "execution_count": 3,
   "id": "4a6426bf",
   "metadata": {},
   "outputs": [
    {
     "data": {
      "text/plain": [
       "57"
      ]
     },
     "execution_count": 3,
     "metadata": {},
     "output_type": "execute_result"
    }
   ],
   "source": [
    "all_letters = string.ascii_letters + \" .,;'\"  #2* 26(Both lowercase and uppercase letters) + [space . , : ']\n",
    "n_letters = len(all_letters)\n",
    "n_letters"
   ]
  },
  {
   "cell_type": "code",
   "execution_count": 4,
   "id": "c2bc78ea",
   "metadata": {},
   "outputs": [],
   "source": [
    "#function to convert unicode to ascii\n",
    "def unicodeToAscii(s):\n",
    "    return ''.join(\n",
    "        c for c in unicodedata.normalize('NFD', s)\n",
    "        if unicodedata.category(c) != 'Mn'\n",
    "        and c in all_letters\n",
    "    )"
   ]
  },
  {
   "cell_type": "code",
   "execution_count": 5,
   "id": "8110848f",
   "metadata": {},
   "outputs": [
    {
     "name": "stdout",
     "output_type": "stream",
     "text": [
      "Slusarski\n"
     ]
    }
   ],
   "source": [
    "print(unicodeToAscii('Ślusàrski'))"
   ]
  },
  {
   "cell_type": "code",
   "execution_count": 6,
   "id": "ac331b55",
   "metadata": {},
   "outputs": [],
   "source": [
    "category_names = {} #dictionary {'language name': names} eg. {'German': list(German names)}\n",
    "all_categories = [] #list of class names (languages)"
   ]
  },
  {
   "cell_type": "code",
   "execution_count": 7,
   "id": "a8489629",
   "metadata": {},
   "outputs": [],
   "source": [
    "def read_names(filename):\n",
    "    '''Function to read a file and return list of names in the file'''\n",
    "    names = open(filename, encoding='utf-8').read().strip().split('\\n')\n",
    "    return [unicodeToAscii(name) for name in names]"
   ]
  },
  {
   "cell_type": "code",
   "execution_count": 8,
   "id": "639cbbb3",
   "metadata": {},
   "outputs": [],
   "source": [
    "for filename in find_files('data/names/*.txt'):                 #loop over each file in directory\n",
    "    category = os.path.splitext(os.path.basename(filename))[0]  #extract the filename i.e., the language name\n",
    "    all_categories.append(category)                             #append the language name to the list\n",
    "    names = read_names(filename)                                #get all the names in the file\n",
    "    category_names[category] = names                            #store them in the dictionary"
   ]
  },
  {
   "cell_type": "code",
   "execution_count": 9,
   "id": "e09c7931",
   "metadata": {},
   "outputs": [],
   "source": [
    "n_categories = len(all_categories)"
   ]
  },
  {
   "cell_type": "code",
   "execution_count": 10,
   "id": "e8e810e2",
   "metadata": {},
   "outputs": [
    {
     "name": "stdout",
     "output_type": "stream",
     "text": [
      "['Abbing', 'Abel', 'Abeln', 'Abt', 'Achilles']\n"
     ]
    }
   ],
   "source": [
    "print(category_names.get('German')[:5])"
   ]
  },
  {
   "cell_type": "markdown",
   "id": "bc09fc18",
   "metadata": {},
   "source": [
    "## Converting data to Tensor"
   ]
  },
  {
   "cell_type": "code",
   "execution_count": 11,
   "id": "7698d96c",
   "metadata": {},
   "outputs": [],
   "source": [
    "#function to find index of a character\n",
    "letterToIndex = lambda letter: all_letters.find(letter)"
   ]
  },
  {
   "cell_type": "code",
   "execution_count": 12,
   "id": "f37404e2",
   "metadata": {},
   "outputs": [
    {
     "data": {
      "text/plain": [
       "(0, 38)"
      ]
     },
     "execution_count": 12,
     "metadata": {},
     "output_type": "execute_result"
    }
   ],
   "source": [
    "letterToIndex('a'), letterToIndex('M')"
   ]
  },
  {
   "cell_type": "code",
   "execution_count": 13,
   "id": "fcc3c411",
   "metadata": {},
   "outputs": [],
   "source": [
    "# Turn a name into a <name_length x 1 x n_letters> tensor,\n",
    "# or a tensor of one-hot vector of letters of the name\n",
    "def nameToTensor(name):\n",
    "    tensor = torch.zeros(len(name), 1, n_letters)\n",
    "    for li, letter in enumerate(name):\n",
    "        tensor[li][0][letterToIndex(letter)] = 1\n",
    "    return tensor"
   ]
  },
  {
   "cell_type": "code",
   "execution_count": 14,
   "id": "cf463393",
   "metadata": {},
   "outputs": [
    {
     "name": "stdout",
     "output_type": "stream",
     "text": [
      "torch.Size([5, 1, 57])\n"
     ]
    }
   ],
   "source": [
    "print(nameToTensor('Mohan').size())"
   ]
  },
  {
   "cell_type": "markdown",
   "id": "ef9ec368",
   "metadata": {},
   "source": [
    "## Model"
   ]
  },
  {
   "cell_type": "markdown",
   "id": "5f0c0428",
   "metadata": {},
   "source": [
    "#### We will be training using the RNN Cell"
   ]
  },
  {
   "cell_type": "code",
   "execution_count": 15,
   "id": "3b9f1cd3",
   "metadata": {},
   "outputs": [],
   "source": [
    "class RNNCell(nn.Module):\n",
    "    def __init__(self, input_size, hidden_size):\n",
    "        super().__init__()\n",
    "        self.w_xh = nn.Linear(input_size, hidden_size)\n",
    "        self.w_hh = nn.Linear(hidden_size, hidden_size)\n",
    "        \n",
    "    def forward(self, x, hidden):        \n",
    "        hidden = torch.tanh(self.w_xh(x) + self.w_hh(hidden)) #updating hidden state\n",
    "        return hidden, hidden"
   ]
  },
  {
   "cell_type": "code",
   "execution_count": 16,
   "id": "6e3e85cf",
   "metadata": {},
   "outputs": [],
   "source": [
    "class Model(nn.Module):\n",
    "    def __init__(self, input_size, hidden_size, num_classes):\n",
    "        super().__init__()\n",
    "        self.rnn = RNNCell(input_size, hidden_size)\n",
    "        self.fc = nn.Linear(hidden_size, num_classes)\n",
    "        \n",
    "        self.softmax = nn.LogSoftmax(dim=1)\n",
    "        \n",
    "    def init_hidden(self):\n",
    "        #initializing hidden state and cell state as a tensor of zeros\n",
    "        hidden = torch.zeros((1,hidden_size), dtype=torch.float32)\n",
    "        return hidden\n",
    "        \n",
    "    def forward(self, x, hidden):\n",
    "        out,hidden = self.rnn(x, hidden)\n",
    "        \n",
    "        out = self.fc(out)\n",
    "        out = self.softmax(out)\n",
    "        \n",
    "        return out, hidden"
   ]
  },
  {
   "cell_type": "code",
   "execution_count": 17,
   "id": "c115dfb7",
   "metadata": {},
   "outputs": [],
   "source": [
    "input_size = n_letters\n",
    "hidden_size = 128\n",
    "output_size = n_categories"
   ]
  },
  {
   "cell_type": "code",
   "execution_count": 18,
   "id": "1fc28765",
   "metadata": {},
   "outputs": [],
   "source": [
    "model = Model(input_size, hidden_size, output_size)"
   ]
  },
  {
   "cell_type": "code",
   "execution_count": 19,
   "id": "2d9cc758",
   "metadata": {},
   "outputs": [],
   "source": [
    "#defining loss function\n",
    "criterion = nn.NLLLoss()"
   ]
  },
  {
   "cell_type": "code",
   "execution_count": 20,
   "id": "bc5eb01d",
   "metadata": {},
   "outputs": [],
   "source": [
    "learning_rate = 0.001"
   ]
  },
  {
   "cell_type": "markdown",
   "id": "49626199",
   "metadata": {},
   "source": [
    "### Verifying if the model has no errors"
   ]
  },
  {
   "cell_type": "code",
   "execution_count": 21,
   "id": "d24ed8df",
   "metadata": {},
   "outputs": [],
   "source": [
    "input_x = nameToTensor('Mohan')"
   ]
  },
  {
   "cell_type": "code",
   "execution_count": 22,
   "id": "5e0ec1f7",
   "metadata": {},
   "outputs": [
    {
     "name": "stdout",
     "output_type": "stream",
     "text": [
      "torch.Size([1, 18])\n",
      "tensor([[-2.8888, -2.7399, -2.9314, -3.0207, -2.8383, -3.0293, -2.7999, -2.8371,\n",
      "         -2.7222, -2.9544, -2.8829, -3.0395, -2.7812, -3.0617, -2.7670, -2.9480,\n",
      "         -2.9421, -2.9390]], grad_fn=<LogSoftmaxBackward0>)\n"
     ]
    }
   ],
   "source": [
    "hidden = model.init_hidden()\n",
    "output, next_hidden = model(input_x[0], hidden)\n",
    "print(output.shape)\n",
    "print(output)"
   ]
  },
  {
   "cell_type": "code",
   "execution_count": 23,
   "id": "a171d5d6",
   "metadata": {},
   "outputs": [],
   "source": [
    "def categoryFromOutput(output):\n",
    "    '''Function to get the name of language from the output of the model'''\n",
    "    top_n, top_i = output.topk(1)\n",
    "    category_i = top_i[0].item()\n",
    "    \n",
    "    return all_categories[category_i], category_i"
   ]
  },
  {
   "cell_type": "code",
   "execution_count": 24,
   "id": "3ce1e3b9",
   "metadata": {},
   "outputs": [
    {
     "name": "stdout",
     "output_type": "stream",
     "text": [
      "('Irish', 8)\n"
     ]
    }
   ],
   "source": [
    "print(categoryFromOutput(output))"
   ]
  },
  {
   "cell_type": "code",
   "execution_count": 25,
   "id": "94e7146b",
   "metadata": {},
   "outputs": [],
   "source": [
    "def randomChoice(class_names):\n",
    "    '''Function to return random name  from the class names'''\n",
    "    return class_names[random.randint(0, len(class_names) - 1)]"
   ]
  },
  {
   "cell_type": "code",
   "execution_count": 26,
   "id": "95dd5157",
   "metadata": {},
   "outputs": [
    {
     "data": {
      "text/plain": [
       "'Russian'"
      ]
     },
     "execution_count": 26,
     "metadata": {},
     "output_type": "execute_result"
    }
   ],
   "source": [
    "randomChoice(all_categories)"
   ]
  },
  {
   "cell_type": "code",
   "execution_count": 27,
   "id": "db8e469f",
   "metadata": {},
   "outputs": [
    {
     "name": "stdout",
     "output_type": "stream",
     "text": [
      "category = French / name = Forestier\n",
      "category = Italian / name = Gentile\n",
      "category = Czech / name = Hajkova\n",
      "category = Czech / name = Pretsch\n",
      "category = Japanese / name = Kimio\n",
      "category = Vietnamese / name = Huynh\n",
      "category = Arabic / name = Nazari\n",
      "category = Scottish / name = Mclean\n",
      "category = Italian / name = Abategiovanni\n",
      "category = Polish / name = Jaskolski\n"
     ]
    }
   ],
   "source": [
    "def randomTrainingExample():\n",
    "    '''Function to generate random training example'''\n",
    "    category = randomChoice(all_categories)\n",
    "    name = randomChoice(category_names[category])\n",
    "    category_tensor = torch.tensor([all_categories.index(category)], dtype=torch.long)\n",
    "    name_tensor = nameToTensor(name)\n",
    "    return category, name, category_tensor, name_tensor\n",
    "\n",
    "for i in range(10):\n",
    "    category, name, category_tensor, name_tensor = randomTrainingExample()\n",
    "    print('category =', category, '/ name =', name)"
   ]
  },
  {
   "cell_type": "code",
   "execution_count": 28,
   "id": "4989256c",
   "metadata": {},
   "outputs": [],
   "source": [
    "def train_one_step(name_tensor, category_tensor):\n",
    "    hidden = model.init_hidden()\n",
    "    \n",
    "    model.zero_grad()\n",
    "    \n",
    "    #Forward pass for one name\n",
    "    for i in range(name_tensor.shape[0]):\n",
    "        output, hidden = model(name_tensor[i], hidden)\n",
    "    \n",
    "    loss = criterion(output, category_tensor)\n",
    "    loss.backward()\n",
    "    \n",
    "    #updating parameters\n",
    "    for p in model.parameters():\n",
    "        p.data.add_(p.grad.data, alpha=-learning_rate)\n",
    "    \n",
    "    return output, loss.item()"
   ]
  },
  {
   "cell_type": "code",
   "execution_count": 29,
   "id": "0c1d2755",
   "metadata": {},
   "outputs": [],
   "source": [
    "epochs = 100000\n",
    "print_every = 5000\n",
    "plot_every = 1000"
   ]
  },
  {
   "cell_type": "code",
   "execution_count": 30,
   "id": "625f7caf",
   "metadata": {},
   "outputs": [],
   "source": [
    "# Keep track of losses for plotting\n",
    "current_loss = 0\n",
    "all_losses = []"
   ]
  },
  {
   "cell_type": "code",
   "execution_count": 31,
   "id": "0dcf0439",
   "metadata": {},
   "outputs": [],
   "source": [
    "def timeSince(start):\n",
    "    '''Function to track time since start'''\n",
    "    now = time.time()\n",
    "    s = now - start\n",
    "    m = s // 60\n",
    "    s -= m * 60\n",
    "    return '%dm %ds' % (m, s)"
   ]
  },
  {
   "cell_type": "code",
   "execution_count": 32,
   "id": "8ce0dd39",
   "metadata": {},
   "outputs": [
    {
     "name": "stdout",
     "output_type": "stream",
     "text": [
      "5000 5% (0m 9s) 2.8957 Tong / English ✗ (Vietnamese)\n",
      "10000 10% (0m 22s) 2.7011 Armani / Japanese ✗ (Italian)\n",
      "15000 15% (0m 34s) 2.7630 Romao / Arabic ✗ (Portuguese)\n",
      "20000 20% (0m 46s) 2.4088 Addley / Polish ✗ (English)\n",
      "25000 25% (0m 58s) 3.1110 Raghailligh / Russian ✗ (Irish)\n",
      "30000 30% (1m 12s) 1.7175 Ferreiro / Italian ✗ (Portuguese)\n",
      "35000 35% (1m 28s) 2.8768 Power / German ✗ (Irish)\n",
      "40000 40% (1m 46s) 1.6269 Kim / Korean ✗ (Vietnamese)\n",
      "45000 45% (2m 2s) 0.7218 Kanada / Japanese ✓\n",
      "50000 50% (2m 21s) 1.6308 Urbina / Italian ✗ (Spanish)\n",
      "55000 55% (2m 37s) 2.4373 Blumenthal / Dutch ✗ (German)\n",
      "60000 60% (2m 52s) 1.3377 Chong / Chinese ✗ (Korean)\n",
      "65000 65% (3m 5s) 0.9106 Sneijers / Dutch ✓\n",
      "70000 70% (3m 18s) 1.5148 Groel / German ✓\n",
      "75000 75% (3m 32s) 3.1259 Nifterik / Polish ✗ (Dutch)\n",
      "80000 80% (3m 48s) 0.6311 Polites / Greek ✓\n",
      "85000 85% (4m 4s) 0.7991 Telis / Greek ✓\n",
      "90000 90% (4m 22s) 1.7615 Mendes / Dutch ✗ (Portuguese)\n",
      "95000 95% (4m 38s) 1.6721 Moles / Portuguese ✗ (Spanish)\n",
      "100000 100% (4m 52s) 1.0186 Konarik / Czech ✓\n"
     ]
    }
   ],
   "source": [
    "start = time.time()\n",
    "\n",
    "for iter in range(1, epochs + 1):\n",
    "    category, name, category_tensor, name_tensor = randomTrainingExample() #get one random training example\n",
    "    output, loss = train_one_step(name_tensor, category_tensor)\n",
    "    current_loss += loss\n",
    "\n",
    "    # Print iter number, loss, name and guess\n",
    "    if iter % print_every == 0:\n",
    "        pred, pred_i = categoryFromOutput(output)\n",
    "        correct = '✓' if pred == category else '✗ (%s)' % category\n",
    "        print('%d %d%% (%s) %.4f %s / %s %s' % (iter, iter / epochs * 100, timeSince(start), loss, name, pred, correct))\n",
    "\n",
    "    # Add current loss avg to list of losses\n",
    "    if iter % plot_every == 0:\n",
    "        all_losses.append(current_loss / plot_every)\n",
    "        current_loss = 0"
   ]
  },
  {
   "cell_type": "code",
   "execution_count": 33,
   "id": "33bd4ffb",
   "metadata": {},
   "outputs": [
    {
     "data": {
      "image/png": "[encoded data removed]",
      "text/plain": [
       "<Figure size 720x432 with 1 Axes>"
      ]
     },
     "metadata": {
      "needs_background": "light"
     },
     "output_type": "display_data"
    }
   ],
   "source": [
    "import matplotlib.pyplot as plt\n",
    "import matplotlib.ticker as ticker\n",
    "\n",
    "plt.figure(figsize=(10,6))\n",
    "plt.plot(all_losses)\n",
    "plt.show()"
   ]
  },
  {
   "cell_type": "markdown",
   "id": "ae1b4c6d",
   "metadata": {},
   "source": [
    "## Prediction"
   ]
  },
  {
   "cell_type": "code",
   "execution_count": 38,
   "id": "0b3d700d",
   "metadata": {},
   "outputs": [],
   "source": [
    "def evaluate(name_tensor):\n",
    "    hidden = model.init_hidden()\n",
    "\n",
    "    for i in range(name_tensor.size()[0]):\n",
    "        output, hidden = model(name_tensor[i], hidden)\n",
    "\n",
    "    return output"
   ]
  },
  {
   "cell_type": "code",
   "execution_count": 39,
   "id": "104d2456",
   "metadata": {},
   "outputs": [
    {
     "name": "stdout",
     "output_type": "stream",
     "text": [
      "\n",
      "> Dovesky\n",
      "(-0.67) Russian\n",
      "(-1.60) Czech\n",
      "(-2.52) Scottish\n",
      "\n",
      "> Jackson\n",
      "(-1.10) Scottish\n",
      "(-1.60) English\n",
      "(-2.26) Russian\n",
      "\n",
      "> Satoshi\n",
      "(-0.79) Japanese\n",
      "(-1.66) Arabic\n",
      "(-1.88) Italian\n"
     ]
    }
   ],
   "source": [
    "def predict(input_name, n_predictions=3):\n",
    "    print('\\n> %s' % input_name)\n",
    "    with torch.no_grad():\n",
    "        output = evaluate(nameToTensor(input_name))\n",
    "\n",
    "        # Get top N categories\n",
    "        topv, topi = output.topk(n_predictions, 1, True)\n",
    "        predictions = []\n",
    "\n",
    "        for i in range(n_predictions):\n",
    "            value = topv[0][i].item()\n",
    "            category_index = topi[0][i].item()\n",
    "            print('(%.2f) %s' % (value, all_categories[category_index]))\n",
    "            predictions.append([value, all_categories[category_index]])\n",
    "\n",
    "predict('Dovesky')\n",
    "predict('Jackson')\n",
    "predict('Satoshi')"
   ]
  },
  {
   "cell_type": "markdown",
   "id": "f83e18b8",
   "metadata": {},
   "source": [
    "Reference: [Pytorch documentation](https://pytorch.org/tutorials/intermediate/char_rnn_classification_tutorial)"
   ]
  }
 ],
 "metadata": {
  "kernelspec": {
   "display_name": "Python 3 (ipykernel)",
   "language": "python",
   "name": "python3"
  },
  "language_info": {
   "codemirror_mode": {
    "name": "ipython",
    "version": 3
   },
   "file_extension": ".py",
   "mimetype": "text/x-python",
   "name": "python",
   "nbconvert_exporter": "python",
   "pygments_lexer": "ipython3",
   "version": "3.9.12"
  }
 },
 "nbformat": 4,
 "nbformat_minor": 5
}
